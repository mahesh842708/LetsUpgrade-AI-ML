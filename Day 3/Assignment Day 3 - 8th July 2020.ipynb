{
 "cells": [
  {
   "cell_type": "code",
   "execution_count": 3,
   "metadata": {},
   "outputs": [
    {
     "name": "stdout",
     "output_type": "stream",
     "text": [
      "0.14000000000000012j\n"
     ]
    }
   ],
   "source": [
    "#Question 1 :\n",
    "#Write a program to subtract two complex numbers in Python\n",
    "a = 2.14j\n",
    "b = 2.0j\n",
    "c = a - b\n",
    "print(c)\n"
   ]
  },
  {
   "cell_type": "code",
   "execution_count": 7,
   "metadata": {},
   "outputs": [
    {
     "data": {
      "text/plain": [
       "2.0"
      ]
     },
     "execution_count": 7,
     "metadata": {},
     "output_type": "execute_result"
    }
   ],
   "source": [
    "#Question 2 :\n",
    "#Write a program to find the fourth root of a number.\n",
    "def nth_root(num, root):\n",
    "    answer = num**(1/root)\n",
    "    return answer\n",
    "\n",
    "nth_root(16, 4)"
   ]
  },
  {
   "cell_type": "code",
   "execution_count": 8,
   "metadata": {},
   "outputs": [
    {
     "name": "stdout",
     "output_type": "stream",
     "text": [
      "The value of l after swapping= 7\n",
      "The value of m after swapping= 5\n"
     ]
    }
   ],
   "source": [
    "#Question 3:\n",
    "#Write a program to swap two numbers in Python with the help of a temporary variable.\n",
    "l = 5\n",
    "m = 7\n",
    "temp = l\n",
    "l = m\n",
    "m = temp\n",
    "print(\"The value of l after swapping=\",l)\n",
    "print(\"The value of m after swapping=\",m)"
   ]
  },
  {
   "cell_type": "code",
   "execution_count": 9,
   "metadata": {
    "scrolled": true
   },
   "outputs": [
    {
     "name": "stdout",
     "output_type": "stream",
     "text": [
      "l = 7\n",
      "m = 5\n"
     ]
    }
   ],
   "source": [
    "#Question 4:\n",
    "#Write a program to swap two numbers in Python without using a temporary variable.\n",
    "l = 5\n",
    "m = 7\n",
    "print(\"l =\",m)\n",
    "print(\"m =\",l)"
   ]
  },
  {
   "cell_type": "code",
   "execution_count": 1,
   "metadata": {},
   "outputs": [
    {
     "name": "stdout",
     "output_type": "stream",
     "text": [
      "If the Fahrenheit value is =20\n",
      "Then Kelvin value is = 266.4833333333333\n",
      "Then Celsius value is = -6.666666666666667\n"
     ]
    }
   ],
   "source": [
    "#Question 5:\n",
    "#Write a program to convert fahrenheit to kelvin and celsius both.\n",
    "\n",
    "fahrenheit = int(input(\"If the Fahrenheit value is =\"))\n",
    "kelvin = (fahrenheit - 32) * 5/9 + 273.15\n",
    "celsius = (fahrenheit - 32) * 5/9\n",
    "\n",
    "print (\"Then Kelvin value is =\",kelvin)\n",
    "print (\"Then Celsius value is =\",celsius)\n"
   ]
  },
  {
   "cell_type": "code",
   "execution_count": 5,
   "metadata": {},
   "outputs": [
    {
     "name": "stdout",
     "output_type": "stream",
     "text": [
      "3 is of type <class 'int'>\n",
      "3.0 is of type <class 'float'>\n",
      "(3+5j) is complex number? True\n"
     ]
    }
   ],
   "source": [
    "#Question 6:\n",
    "#Write a program to demonstrate all the available data types in Python. Hint: Use type() function\n",
    "\n",
    "l = 3\n",
    "print(l, \"is of type\", type(l))\n",
    "\n",
    "l = 3.0\n",
    "print(l, \"is of type\", type(l))\n",
    "\n",
    "l = 3+5j\n",
    "print(l, \"is complex number?\", isinstance(3+5j,complex))"
   ]
  },
  {
   "cell_type": "code",
   "execution_count": null,
   "metadata": {},
   "outputs": [],
   "source": [
    "#Question 7:\n",
    "#Create a Markdown cell in jupyter and list the steps discussed in the session by Dr. Darshan\n",
    "#Ingle sir to create Github profile and upload Githubs Assignment link.\n",
    "\n",
    "1.Create the folder in your drive & name it accordingly\n",
    "2.Save your project in the same direcory which we just created.\n",
    "3.Register on https://github.com with your email ID which we used to register with Letsupgrade.\n",
    "4.Create the new repository with name \"LetsUpgrade-AI-ML\" and set the value as \"Public\" for the access.\n",
    "5.Verify whether the repository is accessible from outside by going incognito.\n",
    "6.Open the repository.\n",
    "7.Click on the \"uploading an existing file\" option under your repository and upload yourassignment into it.\n",
    "8.Commit the changes.\n",
    "9.Open the Lets Upgrade Assignment form and fill out the detail into it, inclosing the repository location details and submit the same."
   ]
  },
  {
   "cell_type": "code",
   "execution_count": null,
   "metadata": {},
   "outputs": [],
   "source": []
  }
 ],
 "metadata": {
  "kernelspec": {
   "display_name": "Python 3",
   "language": "python",
   "name": "python3"
  },
  "language_info": {
   "codemirror_mode": {
    "name": "ipython",
    "version": 3
   },
   "file_extension": ".py",
   "mimetype": "text/x-python",
   "name": "python",
   "nbconvert_exporter": "python",
   "pygments_lexer": "ipython3",
   "version": "3.7.6"
  }
 },
 "nbformat": 4,
 "nbformat_minor": 4
}
